# --- 1. Import Libraries ---
import pandas as pd
import numpy as np
import matplotlib.pyplot as plt
import seaborn as sns

# --- 2. Load and Inspect the Data ---
try:
    df_tracks = pd.read_csv('tracks.csv')
    print("Dataset loaded successfully.")
except FileNotFoundError:
    print("Error: 'tracks.csv' not found.")
    print("Please download the dataset from Kaggle and place it in the project directory.")
    exit()

print("--- First 5 Rows of the Dataset ---")
print(df_tracks.head())
print("\n--- Dataset Information ---")
df_tracks.info()


# --- 3. Data Cleaning ---
# Check for null values
print("\n--- Missing Values ---")
print(df_tracks.isnull().sum())

# Drop rows with null values as they are few and won't significantly impact the overall analysis
df_tracks.dropna(inplace=True)

# Convert release_date to datetime and extract the year
df_tracks['release_date'] = pd.to_datetime(df_tracks['release_date'])
df_tracks['year'] = df_tracks['release_date'].dt.year


# --- 4. Exploratory Data Analysis (EDA) ---

# Plot 1: Trend of Audio Features Over the Years
# Select numerical columns for trend analysis
trend_features = ['acousticness', 'danceability', 'energy', 'instrumentalness', 'liveness', 'speechiness', 'valence']
yearly_avg_features = df_tracks.groupby('year')[trend_features].mean()

plt.figure(figsize=(14, 8))
sns.lineplot(data=yearly_avg_features)
plt.title('Trend of Audio Features Over the Years', fontsize=16)
plt.xlabel('Year', fontsize=12)
plt.ylabel('Feature Value', fontsize=12)
plt.legend(title='Audio Feature', bbox_to_anchor=(1.05, 1), loc='upper left')
plt.grid(True)
plt.tight_layout()
plt.savefig('audio_features_trend.png')
print("\nGenerated 'audio_features_trend.png'")
plt.show()


# Plot 2: Correlation Heatmap of Audio Features
correlation_features = ['popularity', 'acousticness', 'danceability', 'energy', 'instrumentalness', 'liveness', 'loudness', 'speechiness', 'tempo', 'valence']
correlation_matrix = df_tracks[correlation_features].corr()

plt.figure(figsize=(12, 10))
sns.heatmap(correlation_matrix, annot=True, cmap='coolwarm', fmt='.2f')
plt.title('Correlation Heatmap of Audio Features', fontsize=16)
plt.savefig('features_correlation_heatmap.png')
print("Generated 'features_correlation_heatmap.png'")
plt.show()


# Plot 3: Top 15 Most Popular Artists
# Group by artists and get the mean popularity
# Explode the artists column to handle lists of artists
df_artists = df_tracks.assign(artists=df_tracks['artists'].str.split(',')).explode('artists')
artist_popularity = df_artists.groupby('artists')['popularity'].mean().sort_values(ascending=False).head(15)

plt.figure(figsize=(12, 8))
sns.barplot(x=artist_popularity.values, y=artist_popularity.index, palette='magma')
plt.title('Top 15 Most Popular Artists on Spotify', fontsize=16)
plt.xlabel('Average Popularity Score', fontsize=12)
plt.ylabel('Artist', fontsize=12)
plt.tight_layout()
plt.savefig('top_15_artists.png')
print("Generated 'top_15_artists.png'")
plt.show()

print("\n--- EDA Complete ---")
